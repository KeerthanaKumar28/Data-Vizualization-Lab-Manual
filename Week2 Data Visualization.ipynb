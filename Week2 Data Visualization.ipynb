{
 "cells": [
  {
   "cell_type": "markdown",
   "id": "6925621f",
   "metadata": {},
   "source": [
    "# BASICS OF DATA WRANGLING FEATURES"
   ]
  },
  {
   "cell_type": "code",
   "execution_count": 5,
   "id": "97848bfa",
   "metadata": {},
   "outputs": [
    {
     "name": "stdout",
     "output_type": "stream",
     "text": [
      "      Name  Age        City\n",
      "0    alice   24     Newyork\n",
      "1      bob   27  los angles\n",
      "2  charlie   22     chicago\n"
     ]
    }
   ],
   "source": [
    "#Creating a Dataframe\n",
    "import pandas as pd\n",
    "data={'Name':['alice','bob','charlie'],'Age':[24,27,22],'City':['Newyork','los angles','chicago']}\n",
    "df=pd.DataFrame(data)\n",
    "print(df)"
   ]
  },
  {
   "cell_type": "code",
   "execution_count": 8,
   "id": "7c75b7d0",
   "metadata": {},
   "outputs": [
    {
     "name": "stdout",
     "output_type": "stream",
     "text": [
      "  Unnamed: 0    Unnamed: 1   Unnamed: 2   Unnamed: 3\n",
      "0   Subject    stu1(Marks)  stu2(Marks)  stu3(Marks)\n",
      "1        Tam            99           88           91\n",
      "2        Eng           100           78           93\n",
      "3        Soc            93           75           92\n",
      "4        Sci            94           92           99\n",
      "5        Mat            92           71           86\n"
     ]
    }
   ],
   "source": [
    "#Reading a CSV file\n",
    "df=pd.read_csv('sample.csv')\n",
    "print(df)"
   ]
  },
  {
   "cell_type": "code",
   "execution_count": 9,
   "id": "7adc3658",
   "metadata": {},
   "outputs": [
    {
     "name": "stdout",
     "output_type": "stream",
     "text": [
      "     A    B\n",
      "1  2.0  2.0\n",
      "3  4.0  4.0\n"
     ]
    }
   ],
   "source": [
    "#Data Cleaning\n",
    "df=pd.DataFrame({'A':[1,2,None,4],'B':[None,2,3,4]})\n",
    "df_clean=df.dropna()\n",
    "print(df_clean)"
   ]
  },
  {
   "cell_type": "code",
   "execution_count": 10,
   "id": "2ad61601",
   "metadata": {},
   "outputs": [
    {
     "name": "stdout",
     "output_type": "stream",
     "text": [
      "   A  B\n",
      "2  3  7\n",
      "3  4  8\n"
     ]
    }
   ],
   "source": [
    "#Filtering Data\n",
    "df=pd.DataFrame({'A':[1,2,3,4],'B':[5,6,7,8]})\n",
    "filtered_df=df[df['A']>2]\n",
    "print(filtered_df)"
   ]
  },
  {
   "cell_type": "code",
   "execution_count": 13,
   "id": "0c58bd78",
   "metadata": {},
   "outputs": [
    {
     "name": "stdout",
     "output_type": "stream",
     "text": [
      "     B\n",
      "A     \n",
      "bar  6\n",
      "foo  4\n"
     ]
    }
   ],
   "source": [
    "#Grouping Data\n",
    "df=pd.DataFrame({'A':['foo','bar','foo','bar'],'B':[1,2,3,4]})\n",
    "grouped=df.groupby('A').sum()\n",
    "print(grouped)"
   ]
  },
  {
   "cell_type": "code",
   "execution_count": 17,
   "id": "4ae3b8a8",
   "metadata": {},
   "outputs": [
    {
     "name": "stdout",
     "output_type": "stream",
     "text": [
      "     A  B_x  B_y\n",
      "0  foo    1    3\n",
      "1  bar    2    4\n"
     ]
    }
   ],
   "source": [
    "#Merging DataFrames\n",
    "import pandas as pd\n",
    "df1=pd.DataFrame({'A':['foo','bar'],'B':[1,2]})\n",
    "df2=pd.DataFrame({'A':['foo','bar'],'B':[3,4]})\n",
    "merge_df= pd.merge(df1,df2,on='A')\n",
    "print(merge_df)"
   ]
  }
 ],
 "metadata": {
  "kernelspec": {
   "display_name": "Python 3 (ipykernel)",
   "language": "python",
   "name": "python3"
  },
  "language_info": {
   "codemirror_mode": {
    "name": "ipython",
    "version": 3
   },
   "file_extension": ".py",
   "mimetype": "text/x-python",
   "name": "python",
   "nbconvert_exporter": "python",
   "pygments_lexer": "ipython3",
   "version": "3.9.12"
  }
 },
 "nbformat": 4,
 "nbformat_minor": 5
}
