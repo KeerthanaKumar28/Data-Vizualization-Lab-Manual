{
 "cells": [
  {
   "cell_type": "markdown",
   "id": "0c8720f3",
   "metadata": {},
   "source": [
    "# Basic Operation "
   ]
  },
  {
   "cell_type": "code",
   "execution_count": 2,
   "id": "2dd40ef1",
   "metadata": {},
   "outputs": [
    {
     "name": "stdout",
     "output_type": "stream",
     "text": [
      "Array [1 2 3 4 5]\n",
      "add 5 [ 6  7  8  9 10]\n",
      "Multiply by 2 [ 2  4  6  8 10]\n"
     ]
    }
   ],
   "source": [
    "#Array operation\n",
    "import numpy as np\n",
    "arr=np.array([1,2,3,4,5])\n",
    "print(\"Array\",arr)\n",
    "print(\"add 5\",arr+5)\n",
    "print(\"Multiply by 2\",arr*2)"
   ]
  },
  {
   "cell_type": "code",
   "execution_count": 3,
   "id": "448a53bd",
   "metadata": {},
   "outputs": [
    {
     "name": "stdout",
     "output_type": "stream",
     "text": [
      "Mean 5.5\n",
      "Median 5.5\n",
      "Standard Deviation 2.8722813232690143\n"
     ]
    }
   ],
   "source": [
    "# Array Statistics \n",
    "import numpy as np\n",
    "arr=np.array([1,2,3,4,5,6,7,8,9,10])\n",
    "print(\"Mean\",np.mean(arr))\n",
    "print(\"Median\",np.median(arr))\n",
    "print(\"Standard Deviation\",np.std(arr))"
   ]
  },
  {
   "cell_type": "code",
   "execution_count": 4,
   "id": "1f9f4dc0",
   "metadata": {},
   "outputs": [
    {
     "name": "stdout",
     "output_type": "stream",
     "text": [
      "Reshaped Array [[ 1  2  3  4]\n",
      " [ 5  6  7  8]\n",
      " [ 9 10 11 12]]\n"
     ]
    }
   ],
   "source": [
    "# Reshaping Array\n",
    "import numpy as np\n",
    "arr=np.arange(1,13)\n",
    "reshaped=arr.reshape(3,4)\n",
    "print(\"Reshaped Array\",reshaped)"
   ]
  },
  {
   "cell_type": "code",
   "execution_count": 5,
   "id": "8938d938",
   "metadata": {},
   "outputs": [
    {
     "name": "stdout",
     "output_type": "stream",
     "text": [
      "First Element 10\n",
      "Last Element  50\n",
      "Slice 1 to 3 [20 30 40]\n"
     ]
    }
   ],
   "source": [
    "# Array Indexing \n",
    "import numpy as np\n",
    "arr=np.array([10,20,30,40,50])\n",
    "print(\"First Element\",arr[0])\n",
    "print(\"Last Element \",arr[-1])\n",
    "print(\"Slice 1 to 3\",arr[1:4])"
   ]
  },
  {
   "cell_type": "code",
   "execution_count": 6,
   "id": "54ef6540",
   "metadata": {},
   "outputs": [
    {
     "name": "stdout",
     "output_type": "stream",
     "text": [
      "Concatenated Array [1 2 3 4 5 6]\n"
     ]
    }
   ],
   "source": [
    "# Array Concatenation\n",
    "import numpy as np\n",
    "arr1=np.array([1,2,3])\n",
    "arr2=np.array([4,5,6])\n",
    "conct=np.concatenate((arr1,arr2))\n",
    "print(\"Concatenated Array\",conct)"
   ]
  },
  {
   "cell_type": "code",
   "execution_count": 7,
   "id": "f185e233",
   "metadata": {},
   "outputs": [
    {
     "name": "stdout",
     "output_type": "stream",
     "text": [
      "Filtered Array [3 4 5]\n"
     ]
    }
   ],
   "source": [
    "# Boolean Indexing \n",
    "import numpy as np\n",
    "arr1=np.array([1,2,3,4,5])\n",
    "filter=arr1[arr1>2]\n",
    "print(\"Filtered Array\",filter)"
   ]
  },
  {
   "cell_type": "code",
   "execution_count": null,
   "id": "bbb73370",
   "metadata": {},
   "outputs": [],
   "source": []
  }
 ],
 "metadata": {
  "kernelspec": {
   "display_name": "Python 3 (ipykernel)",
   "language": "python",
   "name": "python3"
  },
  "language_info": {
   "codemirror_mode": {
    "name": "ipython",
    "version": 3
   },
   "file_extension": ".py",
   "mimetype": "text/x-python",
   "name": "python",
   "nbconvert_exporter": "python",
   "pygments_lexer": "ipython3",
   "version": "3.9.12"
  }
 },
 "nbformat": 4,
 "nbformat_minor": 5
}
